{
  "nbformat": 4,
  "nbformat_minor": 0,
  "metadata": {
    "colab": {
      "name": "Testing Wide Neural Nets.ipynb",
      "provenance": [],
      "collapsed_sections": [],
      "toc_visible": true
    },
    "kernelspec": {
      "name": "python3",
      "display_name": "Python 3"
    },
    "accelerator": "GPU"
  },
  "cells": [
    {
      "cell_type": "code",
      "metadata": {
        "id": "afjPd6FHaM9o",
        "colab_type": "code",
        "outputId": "739b4aee-9bde-4342-a985-e43101cefee2",
        "colab": {
          "base_uri": "https://localhost:8080/",
          "height": 680
        }
      },
      "source": [
        "!pip3 install ivis"
      ],
      "execution_count": 1,
      "outputs": [
        {
          "output_type": "stream",
          "text": [
            "Collecting ivis\n",
            "  Downloading https://files.pythonhosted.org/packages/2d/88/bd04a2c3e5b5ea6b62c8d4fc8bb22e236fabf6f0581129bd262e6187729a/ivis-1.6.0-py3-none-any.whl\n",
            "Collecting annoy>=1.15.2\n",
            "\u001b[?25l  Downloading https://files.pythonhosted.org/packages/cc/66/eab272ae940d36d698994058e303fe7d1264d10ec120e0a508d0c8fb3ca5/annoy-1.16.2.tar.gz (636kB)\n",
            "\u001b[K     |████████████████████████████████| 645kB 7.8MB/s \n",
            "\u001b[?25hRequirement already satisfied: tqdm in /usr/local/lib/python3.6/dist-packages (from ivis) (4.28.1)\n",
            "Requirement already satisfied: scikit-learn in /usr/local/lib/python3.6/dist-packages (from ivis) (0.21.3)\n",
            "Requirement already satisfied: numpy in /usr/local/lib/python3.6/dist-packages (from ivis) (1.17.4)\n",
            "Requirement already satisfied: tensorflow in /usr/local/lib/python3.6/dist-packages (from ivis) (1.15.0)\n",
            "Requirement already satisfied: joblib>=0.11 in /usr/local/lib/python3.6/dist-packages (from scikit-learn->ivis) (0.14.1)\n",
            "Requirement already satisfied: scipy>=0.17.0 in /usr/local/lib/python3.6/dist-packages (from scikit-learn->ivis) (1.3.3)\n",
            "Requirement already satisfied: google-pasta>=0.1.6 in /usr/local/lib/python3.6/dist-packages (from tensorflow->ivis) (0.1.8)\n",
            "Requirement already satisfied: protobuf>=3.6.1 in /usr/local/lib/python3.6/dist-packages (from tensorflow->ivis) (3.10.0)\n",
            "Requirement already satisfied: grpcio>=1.8.6 in /usr/local/lib/python3.6/dist-packages (from tensorflow->ivis) (1.15.0)\n",
            "Requirement already satisfied: keras-preprocessing>=1.0.5 in /usr/local/lib/python3.6/dist-packages (from tensorflow->ivis) (1.1.0)\n",
            "Requirement already satisfied: wheel>=0.26 in /usr/local/lib/python3.6/dist-packages (from tensorflow->ivis) (0.33.6)\n",
            "Requirement already satisfied: astor>=0.6.0 in /usr/local/lib/python3.6/dist-packages (from tensorflow->ivis) (0.8.1)\n",
            "Requirement already satisfied: gast==0.2.2 in /usr/local/lib/python3.6/dist-packages (from tensorflow->ivis) (0.2.2)\n",
            "Requirement already satisfied: tensorboard<1.16.0,>=1.15.0 in /usr/local/lib/python3.6/dist-packages (from tensorflow->ivis) (1.15.0)\n",
            "Requirement already satisfied: wrapt>=1.11.1 in /usr/local/lib/python3.6/dist-packages (from tensorflow->ivis) (1.11.2)\n",
            "Requirement already satisfied: six>=1.10.0 in /usr/local/lib/python3.6/dist-packages (from tensorflow->ivis) (1.12.0)\n",
            "Requirement already satisfied: tensorflow-estimator==1.15.1 in /usr/local/lib/python3.6/dist-packages (from tensorflow->ivis) (1.15.1)\n",
            "Requirement already satisfied: absl-py>=0.7.0 in /usr/local/lib/python3.6/dist-packages (from tensorflow->ivis) (0.8.1)\n",
            "Requirement already satisfied: opt-einsum>=2.3.2 in /usr/local/lib/python3.6/dist-packages (from tensorflow->ivis) (3.1.0)\n",
            "Requirement already satisfied: keras-applications>=1.0.8 in /usr/local/lib/python3.6/dist-packages (from tensorflow->ivis) (1.0.8)\n",
            "Requirement already satisfied: termcolor>=1.1.0 in /usr/local/lib/python3.6/dist-packages (from tensorflow->ivis) (1.1.0)\n",
            "Requirement already satisfied: setuptools in /usr/local/lib/python3.6/dist-packages (from protobuf>=3.6.1->tensorflow->ivis) (42.0.2)\n",
            "Requirement already satisfied: werkzeug>=0.11.15 in /usr/local/lib/python3.6/dist-packages (from tensorboard<1.16.0,>=1.15.0->tensorflow->ivis) (0.16.0)\n",
            "Requirement already satisfied: markdown>=2.6.8 in /usr/local/lib/python3.6/dist-packages (from tensorboard<1.16.0,>=1.15.0->tensorflow->ivis) (3.1.1)\n",
            "Requirement already satisfied: h5py in /usr/local/lib/python3.6/dist-packages (from keras-applications>=1.0.8->tensorflow->ivis) (2.8.0)\n",
            "Building wheels for collected packages: annoy\n",
            "  Building wheel for annoy (setup.py) ... \u001b[?25l\u001b[?25hdone\n",
            "  Created wheel for annoy: filename=annoy-1.16.2-cp36-cp36m-linux_x86_64.whl size=310427 sha256=8a922df768d6fee22748879099e745ed9a29bf85223eae422b1e79f56dcc7584\n",
            "  Stored in directory: /root/.cache/pip/wheels/d3/d7/68/3795670ef4c6781fc10df0d6cf83b922244aa28cd9489d1176\n",
            "Successfully built annoy\n",
            "Installing collected packages: annoy, ivis\n",
            "Successfully installed annoy-1.16.2 ivis-1.6.0\n"
          ],
          "name": "stdout"
        }
      ]
    },
    {
      "cell_type": "code",
      "metadata": {
        "id": "bPZlZOxJaQSL",
        "colab_type": "code",
        "outputId": "1eef8f16-d600-4351-890f-4cab7e565322",
        "colab": {
          "base_uri": "https://localhost:8080/",
          "height": 124
        }
      },
      "source": [
        "from google.colab import drive\n",
        "drive.mount('/content/drive')"
      ],
      "execution_count": 2,
      "outputs": [
        {
          "output_type": "stream",
          "text": [
            "Go to this URL in a browser: https://accounts.google.com/o/oauth2/auth?client_id=947318989803-6bn6qk8qdgf4n4g3pfee6491hc0brc4i.apps.googleusercontent.com&redirect_uri=urn%3aietf%3awg%3aoauth%3a2.0%3aoob&response_type=code&scope=email%20https%3a%2f%2fwww.googleapis.com%2fauth%2fdocs.test%20https%3a%2f%2fwww.googleapis.com%2fauth%2fdrive%20https%3a%2f%2fwww.googleapis.com%2fauth%2fdrive.photos.readonly%20https%3a%2f%2fwww.googleapis.com%2fauth%2fpeopleapi.readonly\n",
            "\n",
            "Enter your authorization code:\n",
            "··········\n",
            "Mounted at /content/drive\n"
          ],
          "name": "stdout"
        }
      ]
    },
    {
      "cell_type": "code",
      "metadata": {
        "id": "Rbz-nr5DaSzM",
        "colab_type": "code",
        "outputId": "1a9641d6-41d1-4558-8012-d451f60fca22",
        "colab": {
          "base_uri": "https://localhost:8080/",
          "height": 136
        }
      },
      "source": [
        "from ivis import Ivis\n",
        "from matplotlib import pyplot as plt\n",
        "import pandas as pd\n",
        "import numpy as np\n",
        "\n",
        "from keras.layers import BatchNormalization, Dense, Activation, Lambda, Input\n",
        "from keras.models import Sequential, Model\n",
        "from keras.callbacks import LearningRateScheduler\n",
        "from keras import backend as K\n",
        "\n",
        "from imblearn.over_sampling import SMOTE, RandomOverSampler\n",
        "\n",
        "from sklearn.svm import SVC\n",
        "from sklearn.model_selection import train_test_split\n",
        "from sklearn.metrics import classification_report, f1_score, precision_score, recall_score\n",
        "from sklearn.ensemble import AdaBoostClassifier\n",
        "from sklearn.linear_model import LogisticRegression\n",
        "from sklearn.preprocessing import MinMaxScaler\n",
        "from sklearn.naive_bayes import GaussianNB\n",
        "\n",
        "from statistics import median\n",
        "import itertools\n",
        "import time"
      ],
      "execution_count": 3,
      "outputs": [
        {
          "output_type": "display_data",
          "data": {
            "text/html": [
              "<p style=\"color: red;\">\n",
              "The default version of TensorFlow in Colab will soon switch to TensorFlow 2.x.<br>\n",
              "We recommend you <a href=\"https://www.tensorflow.org/guide/migrate\" target=\"_blank\">upgrade</a> now \n",
              "or ensure your notebook will continue to use TensorFlow 1.x via the <code>%tensorflow_version 1.x</code> magic:\n",
              "<a href=\"https://colab.research.google.com/notebooks/tensorflow_version.ipynb\" target=\"_blank\">more info</a>.</p>\n"
            ],
            "text/plain": [
              "<IPython.core.display.HTML object>"
            ]
          },
          "metadata": {
            "tags": []
          }
        },
        {
          "output_type": "stream",
          "text": [
            "Using TensorFlow backend.\n",
            "/usr/local/lib/python3.6/dist-packages/sklearn/externals/six.py:31: DeprecationWarning: The module is deprecated in version 0.21 and will be removed in version 0.23 since we've dropped support for Python 2.7. Please rely on the official version of six (https://pypi.org/project/six/).\n",
            "  \"(https://pypi.org/project/six/).\", DeprecationWarning)\n"
          ],
          "name": "stderr"
        }
      ]
    },
    {
      "cell_type": "code",
      "metadata": {
        "id": "BvefmjiAadyf",
        "colab_type": "code",
        "colab": {}
      },
      "source": [
        "base_path = './drive/My Drive/'\n",
        "\n",
        "train_data_fname = 'xalan-2.4.csv'\n",
        "test_data_fname = 'xalan-2.5.csv'\n",
        "\n",
        "batch_size = 128\n",
        "num_classes = 2\n",
        "\n",
        "train_df = pd.read_csv(f'{base_path}/{train_data_fname}')\n",
        "test_df = pd.read_csv(f'{base_path}/{test_data_fname}')"
      ],
      "execution_count": 0,
      "outputs": []
    },
    {
      "cell_type": "code",
      "metadata": {
        "id": "TxcVnGFma6Ye",
        "colab_type": "code",
        "colab": {}
      },
      "source": [
        "x_train = train_df.drop('bug', axis=1)\n",
        "x_train.drop(['name', 'version', 'name.1'], axis=1, inplace=True)\n",
        "y_train = train_df['bug']\n",
        "\n",
        "x_test = test_df.drop('bug', axis=1)\n",
        "x_test.drop(['name', 'version', 'name.1'], axis=1, inplace=True)\n",
        "y_test = test_df['bug']"
      ],
      "execution_count": 0,
      "outputs": []
    },
    {
      "cell_type": "code",
      "metadata": {
        "id": "FEPipOKVahP7",
        "colab_type": "code",
        "outputId": "ae370d6d-888e-430e-f630-9b0036d7db76",
        "colab": {
          "base_uri": "https://localhost:8080/",
          "height": 211
        }
      },
      "source": [
        "y_train[y_train > 1] = 1\n",
        "y_test[y_test > 1] = 1"
      ],
      "execution_count": 6,
      "outputs": [
        {
          "output_type": "stream",
          "text": [
            "/usr/local/lib/python3.6/dist-packages/ipykernel_launcher.py:1: SettingWithCopyWarning: \n",
            "A value is trying to be set on a copy of a slice from a DataFrame\n",
            "\n",
            "See the caveats in the documentation: http://pandas.pydata.org/pandas-docs/stable/user_guide/indexing.html#returning-a-view-versus-a-copy\n",
            "  \"\"\"Entry point for launching an IPython kernel.\n",
            "/usr/local/lib/python3.6/dist-packages/ipykernel_launcher.py:2: SettingWithCopyWarning: \n",
            "A value is trying to be set on a copy of a slice from a DataFrame\n",
            "\n",
            "See the caveats in the documentation: http://pandas.pydata.org/pandas-docs/stable/user_guide/indexing.html#returning-a-view-versus-a-copy\n",
            "  \n"
          ],
          "name": "stderr"
        }
      ]
    },
    {
      "cell_type": "code",
      "metadata": {
        "id": "vBjoj02ja3X8",
        "colab_type": "code",
        "colab": {}
      },
      "source": [
        "def parabola(x):\n",
        "    return x ** 2"
      ],
      "execution_count": 0,
      "outputs": []
    },
    {
      "cell_type": "code",
      "metadata": {
        "id": "ioQO8lKma-H5",
        "colab_type": "code",
        "colab": {}
      },
      "source": [
        "def get_model(input_units=2, units=2, n_layers=1, deep_learner=False, batchnorm=False, \n",
        "              activation='relu'):\n",
        "    \"\"\"\n",
        "    Returns a model.\n",
        "    \n",
        "    Params:\n",
        "    =======\n",
        "    units: int - Number of input units. Only for deep learners.\n",
        "    layers: int - Number of hidden layers. Only for deep learners.\n",
        "    deep_learner: boolean - To use deep learner, set to True.\n",
        "    batchnorm: boolean - If True, uses Batch Normalization.\n",
        "    \n",
        "    Returns:\n",
        "    ========\n",
        "    An instance of keras.Sequential or AdaBoost from sklearn.\n",
        "    \"\"\"\n",
        "    if deep_learner:\n",
        "        layers = []\n",
        "        \n",
        "        # Add first hidden layer set.\n",
        "        first = Dense(units, input_shape=(input_units,))\n",
        "        layers.append(first)\n",
        "        \n",
        "        if batchnorm:\n",
        "            layers.append(BatchNormalization())\n",
        "        \n",
        "        layers.append(Activation(activation))\n",
        "        \n",
        "        # Add the other hidden layers.\n",
        "        for i in range(n_layers - 1):\n",
        "            layers.append(Dense(units))\n",
        "            \n",
        "            if batchnorm:\n",
        "                layers.append(BatchNormalization())\n",
        "            \n",
        "            layers.append(Activation(activation))\n",
        "        \n",
        "        # Add the output layer.\n",
        "        layers.append(Dense(1))\n",
        "        layers.append(Activation('sigmoid'))\n",
        "        \n",
        "        return Sequential(layers)\n",
        "    else:\n",
        "        return AdaBoostClassifier()"
      ],
      "execution_count": 0,
      "outputs": []
    },
    {
      "cell_type": "code",
      "metadata": {
        "id": "7fDQLd30bX4N",
        "colab_type": "code",
        "colab": {}
      },
      "source": [
        "def get_oversampler(name=None):\n",
        "    \"\"\"\n",
        "    Returns an oversampler.\n",
        "    \n",
        "    Params:\n",
        "    =======\n",
        "    name: str or None - One of None, 'smote', and 'random'.\n",
        "    \"\"\"\n",
        "    if name is None:\n",
        "        return None\n",
        "    if name == 'smote':\n",
        "        return SMOTE()\n",
        "    if name == 'random':\n",
        "        return RandomOverSampler()"
      ],
      "execution_count": 0,
      "outputs": []
    },
    {
      "cell_type": "code",
      "metadata": {
        "id": "oPqq8HuGg4XB",
        "colab_type": "code",
        "colab": {}
      },
      "source": [
        "def resample(x, y):\n",
        "    \"\"\"\n",
        "    Picks n_desired samples from x and y, trying to maintain a balanced dataset\n",
        "    and oversampling when necessary.\n",
        "    \n",
        "    Args:\n",
        "    =====\n",
        "    x, y: dataset\n",
        "    \"\"\"\n",
        "    m = len(x)\n",
        "    \n",
        "    # We need to pick n_desired random samples, trying to maintain a\n",
        "    # balanced dataset\n",
        "    c0_idx = np.where(y == 0)[0]\n",
        "    c1_idx = np.where(y == 1)[0]\n",
        "\n",
        "    n_desired = max(len(c0_idx), len(c1_idx))\n",
        "        \n",
        "    c0_samples = np.random.choice(c0_idx, n_desired)\n",
        "    c1_samples = np.random.choice(c1_idx, n_desired)\n",
        "        \n",
        "    pick_idx = np.concatenate((c0_samples, c1_samples))\n",
        "    return x[pick_idx], y[pick_idx]"
      ],
      "execution_count": 0,
      "outputs": []
    },
    {
      "cell_type": "code",
      "metadata": {
        "id": "oYE_AMS6dtTH",
        "colab_type": "code",
        "colab": {}
      },
      "source": [
        "def run_one_experiment(x_resampled, y_resampled, x_test, y_test, deep_learner=False, n_layers=1, batchnorm=False, lipschitz_lr=False, \n",
        "                       reduce_data=False, embedding_dims=2, k=7, oversample=False, oversampler=None,\n",
        "                       activation='relu', wide=False):\n",
        "    \"\"\"\n",
        "    Runs one experiment.\n",
        "    \n",
        "    Params:\n",
        "    =======\n",
        "    x, y: np.array - Input data\n",
        "    deep_learner: boolean - If True, uses a deep learner.\n",
        "    layers: int - Number of hidden layers. Deep learners only.\n",
        "    batchnorm: boolean - If True, uses Batch Normalization in deep learner.\n",
        "    lipschitz_lr: boolean - If True, uses LipschitzLR\n",
        "    reduce_data: boolean - If True, reduces data using Ivis.\n",
        "    k: int - k used in Ivis reduction.\n",
        "    embedding_dims: int - Number of dimensions to reduce data to\n",
        "    oversample: boolean - If True, oversamples dataset.\n",
        "    oversampler: str or None - One of None, 'smote', and 'random'.\n",
        "    \n",
        "    Returns:\n",
        "    ========\n",
        "    prec, recall, f1, time - Precision, recall, and F-1 scores of the model, along with runtime\n",
        "    \"\"\"    \n",
        "    \n",
        "    # Step 3: Get the model\n",
        "    if wide:\n",
        "        model = get_model(input_units=x_resampled.shape[1],units=100, n_layers=n_layers, \n",
        "                      deep_learner=deep_learner, batchnorm=batchnorm,\n",
        "                      activation=activation)\n",
        "    else:\n",
        "        model = get_model(input_units=x_resampled.shape[1],units=x_resampled.shape[1],n_layers=n_layers, \n",
        "                      deep_learner=deep_learner, batchnorm=batchnorm,\n",
        "                      activation=activation)\n",
        "        \n",
        "    # Step 4: Train model\n",
        "    if deep_learner:\n",
        "        ####################\n",
        "        # LipschitzLR code #\n",
        "        ####################    \n",
        "        def lr_schedule(epoch):\n",
        "            \"\"\"Learning Rate Schedule\n",
        "            # Arguments\n",
        "                epoch (int): The number of epochs\n",
        "            # Returns\n",
        "                lr (float32): learning rate\n",
        "            \"\"\"\n",
        "\n",
        "            Kz = 0.\n",
        "            for i in range((len(x_resampled) - 1) // batch_size + 1):\n",
        "                start_i = i * batch_size\n",
        "                end_i = start_i + batch_size\n",
        "                xb = x_resampled[start_i:end_i]\n",
        "\n",
        "                activ = np.linalg.norm(func([xb]))\n",
        "                if activ > Kz:\n",
        "                    Kz = activ\n",
        "\n",
        "            K_ = ((num_classes - 1) * Kz) / (num_classes * batch_size)\n",
        "            lr = 1 / K_\n",
        "            #print('Epoch', epoch + 1, 'LR =', lr)\n",
        "            return lr\n",
        "        ####################\n",
        "        \n",
        "        if lipschitz_lr:\n",
        "            model.compile(loss='binary_crossentropy',\n",
        "                  optimizer='sgd')\n",
        "            func = K.function([model.layers[0].input], [model.layers[-2].output])\n",
        "            lr_scheduler = LearningRateScheduler(lr_schedule)\n",
        "            \n",
        "            start = time.time()\n",
        "            model.fit(x_resampled, y_resampled, batch_size=batch_size, verbose=0, \n",
        "                      validation_data=(x_test, y_test), epochs=150, callbacks=[lr_scheduler])\n",
        "            end = time.time()\n",
        "        else:\n",
        "            model.compile(loss='binary_crossentropy',\n",
        "                  optimizer='adam')\n",
        "            \n",
        "            start = time.time()\n",
        "            model.fit(x_resampled, y_resampled, batch_size=batch_size, verbose=0, \n",
        "                      validation_data=(x_test, y_test), epochs=100)\n",
        "            end = time.time()\n",
        "        \n",
        "    else:\n",
        "        start = time.time()\n",
        "        model.fit(x_resampled, y_resampled)\n",
        "        end = time.time()\n",
        "    \n",
        "    # Step 5: Evaluate model\n",
        "    evaluators = [precision_score, recall_score, f1_score]\n",
        "    if deep_learner:\n",
        "        prec, recall, f1 = [f(y_test, model.predict_classes(x_test)) for f in evaluators]\n",
        "    else:\n",
        "        prec, recall, f1 = [f(y_test, model.predict(x_test)) for f in evaluators]\n",
        "    \n",
        "    return prec, recall, f1, (end - start)"
      ],
      "execution_count": 0,
      "outputs": []
    },
    {
      "cell_type": "code",
      "metadata": {
        "id": "OzzMaeD1dynJ",
        "colab_type": "code",
        "colab": {}
      },
      "source": [
        "def run_20_experiments(reduce_data=False, oversample=False, oversampler=None, \n",
        "                       embedding_dims=2, k=7, lipschitz_lr=False, activation='relu', **kwargs):\n",
        "    global x_train, y_train, x_test, y_test\n",
        "    prec = []\n",
        "    recall = []\n",
        "    f1 = []\n",
        "    times = []\n",
        "    \n",
        "    count = 0\n",
        "\n",
        "    # Step 1: Reduce dimensions --> (x_*_reduced, y_*)\n",
        "    x_train_reduced = np.array(x_train)\n",
        "    x_test_reduced = np.array(x_test)\n",
        "    y_train = np.array(y_train)\n",
        "    y_test = np.array(y_test)\n",
        "\n",
        "    if reduce_data:\n",
        "        ivis = Ivis(embedding_dims=embedding_dims, k=k, verbose=0)\n",
        "        x_train_reduced = ivis.fit_transform(x_train_reduced)\n",
        "        x_test_reduced = ivis.transform(x_test_reduced)\n",
        "\n",
        "    # Step 2: Oversample data --> (x_resampled, y_resampled)\n",
        "    x_resampled, y_resampled = x_train_reduced, y_train\n",
        "    if oversample:\n",
        "        #sampler = get_oversampler(name='random')\n",
        "        x_resampled, y_resampled = resample(x_train_reduced, y_train)\n",
        "        #x_resampled, y_resampled = sampler.fit_resample(x_train_reduced, y_train)\n",
        "\n",
        "    while count != 20:\n",
        "        try:          \n",
        "            precision, rec, f1_, time_ = run_one_experiment(x_resampled, y_resampled,\n",
        "                                                            x_test_reduced, y_test, \n",
        "                                                            lipschitz_lr=lipschitz_lr, \n",
        "                                                            activation=activation, **kwargs)\n",
        "            prec.append(precision)\n",
        "            recall.append(rec)\n",
        "            f1.append(f1_)\n",
        "            times.append(time_)\n",
        "            count += 1\n",
        "        except KeyboardInterrupt:\n",
        "            raise\n",
        "        except:\n",
        "            print('Retrying...')\n",
        "            if lipschitz_lr:\n",
        "                pass\n",
        "            else:\n",
        "                raise\n",
        "    \n",
        "    print(np.percentile(f1, 25))\n",
        "    print(median(f1))\n",
        "    print(np.percentile(f1, 75))\n",
        "    print('Precision:', prec, '\\nRecall:', recall, '\\nF1:', f1, '\\nRuntime:', times)"
      ],
      "execution_count": 0,
      "outputs": []
    },
    {
      "cell_type": "code",
      "metadata": {
        "id": "rGXj-G04eIhH",
        "colab_type": "code",
        "colab": {}
      },
      "source": [
        "config = {'deep_learner': True, 'wide': False, 'n_layers': 1, 'lipschitz_lr': False, 'reduce_data': False, 'embedding_dims': 2, 'k': 3, 'oversample': False, 'activation': parabola}"
      ],
      "execution_count": 0,
      "outputs": []
    },
    {
      "cell_type": "code",
      "metadata": {
        "id": "bBNppGtmenQL",
        "colab_type": "code",
        "outputId": "6d51d0ae-6b90-42ee-a462-8cd0022a36c7",
        "colab": {
          "base_uri": "https://localhost:8080/",
          "height": 193
        }
      },
      "source": [
        "run_20_experiments(**config)"
      ],
      "execution_count": 0,
      "outputs": [
        {
          "output_type": "stream",
          "text": [
            "/usr/local/lib/python3.6/dist-packages/sklearn/metrics/classification.py:1437: UndefinedMetricWarning: Precision is ill-defined and being set to 0.0 due to no predicted samples.\n",
            "  'precision', 'predicted', average, warn_for)\n",
            "/usr/local/lib/python3.6/dist-packages/sklearn/metrics/classification.py:1437: UndefinedMetricWarning: F-score is ill-defined and being set to 0.0 due to no predicted samples.\n",
            "  'precision', 'predicted', average, warn_for)\n"
          ],
          "name": "stderr"
        },
        {
          "output_type": "stream",
          "text": [
            "0.7710507158456685\n",
            "Precision: [0.7449664429530202, 0.692722371967655, 0.7039106145251397, 0.6892950391644909, 0.0, 0.7560137457044673, 0.7941176470588235, 0.0, 0.7414965986394558, 0.7873134328358209, 0.6933333333333334, 0.7655677655677655, 0.6952908587257618, 0.6940509915014165, 0.7450980392156863, 0.0, 0.711484593837535, 0.0, 0.696969696969697, 0.8525641025641025] \n",
            "Recall: [0.7900355871886121, 0.9145907473309609, 0.896797153024911, 0.9395017793594306, 0.0, 0.7829181494661922, 0.7686832740213523, 0.0, 0.7758007117437722, 0.7508896797153025, 0.9252669039145908, 0.7437722419928826, 0.8932384341637011, 0.8718861209964412, 0.8113879003558719, 0.0, 0.9039145907473309, 0.0, 0.900355871886121, 0.47330960854092524] \n",
            "F1: [0.7668393782383419, 0.7883435582822085, 0.7887323943661971, 0.7951807228915663, 0.0, 0.7692307692307692, 0.7811934900542494, 0.0, 0.7582608695652174, 0.7686703096539163, 0.7926829268292683, 0.7545126353790614, 0.7819314641744549, 0.7728706624605679, 0.776831345826235, 0.0, 0.7962382445141065, 0.0, 0.7857142857142858, 0.608695652173913] \n",
            "Runtime: [8.898793697357178, 9.009977579116821, 9.089239120483398, 9.264937400817871, 9.209754943847656, 9.265093564987183, 9.670718908309937, 9.399150371551514, 9.588615655899048, 9.599873304367065, 9.740341186523438, 9.759138107299805, 9.793561697006226, 10.107409238815308, 9.893560647964478, 10.018406391143799, 10.040295362472534, 10.092933177947998, 10.320980310440063, 10.185540199279785]\n"
          ],
          "name": "stdout"
        }
      ]
    },
    {
      "cell_type": "code",
      "metadata": {
        "id": "yId_djGXesk1",
        "colab_type": "code",
        "outputId": "340fd683-8689-448c-ff14-35a831a0b97c",
        "colab": {
          "base_uri": "https://localhost:8080/",
          "height": 34
        }
      },
      "source": [
        "np.percentile([0.7668393782383419, 0.7883435582822085, 0.7887323943661971, 0.7951807228915663, 0.0, 0.7692307692307692, 0.7811934900542494, 0.0, 0.7582608695652174, 0.7686703096539163, 0.7926829268292683, 0.7545126353790614, 0.7819314641744549, 0.7728706624605679, 0.776831345826235, 0.0, 0.7962382445141065, 0.0, 0.7857142857142858, 0.608695652173913], 50)"
      ],
      "execution_count": 0,
      "outputs": [
        {
          "output_type": "execute_result",
          "data": {
            "text/plain": [
              "0.7710507158456685"
            ]
          },
          "metadata": {
            "tags": []
          },
          "execution_count": 51
        }
      ]
    },
    {
      "cell_type": "code",
      "metadata": {
        "id": "FNW-wQPnmWBo",
        "colab_type": "code",
        "colab": {}
      },
      "source": [
        "config = {'deep_learner': True, 'wide': True, 'n_layers': 1, 'lipschitz_lr': False, 'reduce_data': False, 'embedding_dims': 2, 'k': 3, 'oversample': False, 'activation': parabola}"
      ],
      "execution_count": 0,
      "outputs": []
    },
    {
      "cell_type": "code",
      "metadata": {
        "id": "dCPspml5oWno",
        "colab_type": "code",
        "outputId": "1e07db17-06ac-41fa-b489-c9e13593eb6d",
        "colab": {
          "base_uri": "https://localhost:8080/",
          "height": 228
        }
      },
      "source": [
        "run_20_experiments(**config)"
      ],
      "execution_count": 0,
      "outputs": [
        {
          "output_type": "stream",
          "text": [
            "/usr/local/lib/python3.6/dist-packages/sklearn/metrics/classification.py:1437: UndefinedMetricWarning: Precision is ill-defined and being set to 0.0 due to no predicted samples.\n",
            "  'precision', 'predicted', average, warn_for)\n",
            "/usr/local/lib/python3.6/dist-packages/sklearn/metrics/classification.py:1437: UndefinedMetricWarning: F-score is ill-defined and being set to 0.0 due to no predicted samples.\n",
            "  'precision', 'predicted', average, warn_for)\n"
          ],
          "name": "stderr"
        },
        {
          "output_type": "stream",
          "text": [
            "0.6914362006484838\n",
            "0.7825933489650303\n",
            "0.7905383273281504\n",
            "Precision: [0.6625916870415648, 0.6723300970873787, 0.6675062972292192, 0.6881443298969072, 0.6650124069478908, 0.6725, 0.7018970189701897, 0.0, 0.6775, 0.6789473684210526, 0.0, 0.7204724409448819, 0.7862903225806451, 0.75, 0.0, 0.6904761904761905, 0.6532066508313539, 0.7209302325581395, 0.8133971291866029, 0.6832460732984293] \n",
            "Recall: [0.9644128113879004, 0.9857651245551602, 0.9430604982206405, 0.9501779359430605, 0.9537366548042705, 0.9572953736654805, 0.9217081850533808, 0.0, 0.9644128113879004, 0.9181494661921709, 0.0, 0.6512455516014235, 0.693950177935943, 0.5231316725978647, 0.0, 0.9288256227758007, 0.9786476868327402, 0.7722419928825622, 0.604982206405694, 0.9288256227758007] \n",
            "F1: [0.7855072463768116, 0.7994227994227995, 0.7817109144542772, 0.7982062780269058, 0.783625730994152, 0.7900146842878121, 0.796923076923077, 0.0, 0.7958883994126285, 0.7806354009077157, 0.0, 0.6841121495327103, 0.7372400756143667, 0.6163522012578616, 0.0, 0.7921092564491654, 0.7834757834757834, 0.7457044673539519, 0.6938775510204082, 0.7873303167420814] \n",
            "Runtime: [12.431665897369385, 12.53530502319336, 12.576242446899414, 12.72012996673584, 12.762894868850708, 12.865235567092896, 12.921830177307129, 12.933756351470947, 12.93927001953125, 13.455067873001099, 13.184421062469482, 13.134732961654663, 13.256859540939331, 13.414811849594116, 13.42047667503357, 13.413163661956787, 13.656634092330933, 13.578076124191284, 13.73503851890564, 13.699897289276123]\n"
          ],
          "name": "stdout"
        }
      ]
    },
    {
      "cell_type": "code",
      "metadata": {
        "id": "swDhwE9XoX9z",
        "colab_type": "code",
        "outputId": "e9c2a6f4-5d62-42a3-c637-0f7cd6a81749",
        "colab": {
          "base_uri": "https://localhost:8080/",
          "height": 34
        }
      },
      "source": [
        "np.percentile([0.6625916870415648, 0.6723300970873787, 0.6675062972292192, 0.6881443298969072, 0.6650124069478908, 0.6725, 0.7018970189701897, 0.0, 0.6775, 0.6789473684210526, 0.0, 0.7204724409448819, 0.7862903225806451, 0.75, 0.0, 0.6904761904761905, 0.6532066508313539, 0.7209302325581395, 0.8133971291866029, 0.6832460732984293], 50)"
      ],
      "execution_count": 0,
      "outputs": [
        {
          "output_type": "execute_result",
          "data": {
            "text/plain": [
              "0.6782236842105263"
            ]
          },
          "metadata": {
            "tags": []
          },
          "execution_count": 62
        }
      ]
    },
    {
      "cell_type": "markdown",
      "metadata": {
        "id": "z9L2bH_csLvN",
        "colab_type": "text"
      },
      "source": [
        "# poi 1.5 - 2.5"
      ]
    },
    {
      "cell_type": "code",
      "metadata": {
        "id": "nlRSRQPbp8l3",
        "colab_type": "code",
        "colab": {}
      },
      "source": [
        "config = {'deep_learner': True, 'wide': True, 'n_layers': 3, 'lipschitz_lr': False, 'reduce_data': False, 'embedding_dims': 2, 'k': 3, 'oversample': True, 'activation': 'relu'}"
      ],
      "execution_count": 0,
      "outputs": []
    },
    {
      "cell_type": "code",
      "metadata": {
        "id": "uNTW4B57sZs3",
        "colab_type": "code",
        "outputId": "b588481c-3a5d-470a-9227-8406054595d3",
        "colab": {
          "base_uri": "https://localhost:8080/",
          "height": 159
        }
      },
      "source": [
        "run_20_experiments(**config)"
      ],
      "execution_count": 0,
      "outputs": [
        {
          "output_type": "stream",
          "text": [
            "0.7431350114416476\n",
            "0.8244736293516781\n",
            "0.8596589513752455\n",
            "Precision: [0.8311688311688312, 0.8195488721804511, 0.8189655172413793, 0.8246268656716418, 0.85, 0.8524590163934426, 0.8201058201058201, 0.85, 0.8272058823529411, 0.8269230769230769, 0.8, 0.848, 0.8545454545454545, 0.7972972972972973, 0.8352059925093633, 0.8450184501845018, 0.8390804597701149, 0.8426966292134831, 0.8333333333333334, 0.8582995951417004] \n",
            "Recall: [0.7741935483870968, 0.43951612903225806, 0.7661290322580645, 0.8911290322580645, 0.5483870967741935, 0.8387096774193549, 0.625, 0.7540322580645161, 0.907258064516129, 0.6935483870967742, 0.20967741935483872, 0.8548387096774194, 0.7580645161290323, 0.47580645161290325, 0.8991935483870968, 0.9233870967741935, 0.8830645161290323, 0.907258064516129, 0.8870967741935484, 0.8548387096774194] \n",
            "F1: [0.8016701461377871, 0.5721784776902887, 0.7916666666666666, 0.8565891472868217, 0.6666666666666665, 0.8455284552845529, 0.7093821510297483, 0.7991452991452991, 0.8653846153846153, 0.7543859649122807, 0.33226837060702874, 0.8514056224899599, 0.8034188034188033, 0.595959595959596, 0.8660194174757282, 0.882466281310212, 0.8605108055009822, 0.8737864077669902, 0.859375, 0.8565656565656566] \n",
            "Runtime: [13.897031307220459, 14.141637802124023, 14.060494422912598, 14.021902799606323, 14.289405107498169, 14.190900564193726, 14.405335426330566, 14.603696823120117, 14.536219835281372, 14.694948434829712, 14.806249618530273, 15.072721481323242, 14.984891414642334, 15.185039758682251, 15.397485494613647, 15.43086862564087, 16.006404399871826, 15.830060482025146, 15.643399238586426, 15.856942176818848]\n"
          ],
          "name": "stdout"
        }
      ]
    },
    {
      "cell_type": "code",
      "metadata": {
        "id": "6FESrZTisbun",
        "colab_type": "code",
        "outputId": "79e854e4-fa60-43ed-9161-b145205db2da",
        "colab": {
          "base_uri": "https://localhost:8080/",
          "height": 34
        }
      },
      "source": [
        "np.percentile([13.897031307220459, 14.141637802124023, 14.060494422912598, 14.021902799606323, 14.289405107498169, 14.190900564193726, 14.405335426330566, 14.603696823120117, 14.536219835281372, 14.694948434829712, 14.806249618530273, 15.072721481323242, 14.984891414642334, 15.185039758682251, 15.397485494613647, 15.43086862564087, 16.006404399871826, 15.830060482025146, 15.643399238586426, 15.856942176818848], 75)"
      ],
      "execution_count": 0,
      "outputs": [
        {
          "output_type": "execute_result",
          "data": {
            "text/plain": [
              "15.405831277370453"
            ]
          },
          "metadata": {
            "tags": []
          },
          "execution_count": 73
        }
      ]
    },
    {
      "cell_type": "markdown",
      "metadata": {
        "id": "xr0gV5TQwVY9",
        "colab_type": "text"
      },
      "source": [
        "# lucene 2.2 - 2.4"
      ]
    },
    {
      "cell_type": "code",
      "metadata": {
        "id": "G-qaVh0hu4q_",
        "colab_type": "code",
        "colab": {}
      },
      "source": [
        "config = {'deep_learner': True, 'wide': True, 'n_layers': 1, 'lipschitz_lr': False, 'reduce_data': False, 'embedding_dims': 2, 'k': 3, 'oversample': False, 'activation': parabola}"
      ],
      "execution_count": 0,
      "outputs": []
    },
    {
      "cell_type": "code",
      "metadata": {
        "id": "m3SCo_hPwiIB",
        "colab_type": "code",
        "outputId": "d10b23c2-388e-4fd4-d01c-5ee64f25db86",
        "colab": {
          "base_uri": "https://localhost:8080/",
          "height": 159
        }
      },
      "source": [
        "run_20_experiments(**config)"
      ],
      "execution_count": 0,
      "outputs": [
        {
          "output_type": "stream",
          "text": [
            "0.6660946730264604\n",
            "0.7409707844490452\n",
            "0.751964514844476\n",
            "Precision: [0.6366666666666667, 0.6483516483516484, 0.6956521739130435, 0.6485507246376812, 0.6344086021505376, 0.648936170212766, 0.6392857142857142, 0.5185185185185185, 0.6338028169014085, 0.7605633802816901, 0.6451612903225806, 0.6075949367088608, 0.6381578947368421, 0.6402640264026402, 0.6037735849056604, 0.6727941176470589, 0.6271186440677966, 0.6741573033707865, 0.6640625, 0.6653992395437263] \n",
            "Recall: [0.9408866995073891, 0.8719211822660099, 0.07881773399014778, 0.8817733990147784, 0.8719211822660099, 0.9014778325123153, 0.8817733990147784, 0.13793103448275862, 0.8866995073891626, 0.2660098522167488, 0.8866995073891626, 0.9458128078817734, 0.9556650246305419, 0.9556650246305419, 0.9458128078817734, 0.9014778325123153, 0.3645320197044335, 0.2955665024630542, 0.8374384236453202, 0.8620689655172413] \n",
            "F1: [0.7594433399602385, 0.7436974789915967, 0.1415929203539823, 0.7473903966597076, 0.7344398340248963, 0.7546391752577319, 0.7412008281573498, 0.21789883268482493, 0.7392197125256673, 0.39416058394160586, 0.7468879668049792, 0.7398843930635839, 0.7652859960552268, 0.766798418972332, 0.7370441458733205, 0.7705263157894737, 0.46105919003115264, 0.41095890410958913, 0.7407407407407407, 0.7510729613733906] \n",
            "Runtime: [14.766776323318481, 14.781675338745117, 14.74657654762268, 14.867595911026001, 15.08496379852295, 15.063039302825928, 15.17651629447937, 15.382344722747803, 15.378005266189575, 15.510342836380005, 15.562320709228516, 15.460089206695557, 15.664335250854492, 15.77399492263794, 15.697908639907837, 15.75919222831726, 16.056590795516968, 15.839813232421875, 15.984220027923584, 16.193334341049194]\n"
          ],
          "name": "stdout"
        }
      ]
    },
    {
      "cell_type": "code",
      "metadata": {
        "id": "OpxASC2wwj8L",
        "colab_type": "code",
        "outputId": "ee871509-0469-4a93-a8f2-4dd7bfcd06b4",
        "colab": {
          "base_uri": "https://localhost:8080/",
          "height": 34
        }
      },
      "source": [
        "np.percentile([14.766776323318481, 14.781675338745117, 14.74657654762268, 14.867595911026001, 15.08496379852295, 15.063039302825928, 15.17651629447937, 15.382344722747803, 15.378005266189575, 15.510342836380005, 15.562320709228516, 15.460089206695557, 15.664335250854492, 15.77399492263794, 15.697908639907837, 15.75919222831726, 16.056590795516968, 15.839813232421875, 15.984220027923584, 16.193334341049194], 75)"
      ],
      "execution_count": 0,
      "outputs": [
        {
          "output_type": "execute_result",
          "data": {
            "text/plain": [
              "15.76289290189743"
            ]
          },
          "metadata": {
            "tags": []
          },
          "execution_count": 84
        }
      ]
    },
    {
      "cell_type": "markdown",
      "metadata": {
        "id": "p9JS8iaj0H_P",
        "colab_type": "text"
      },
      "source": [
        "# lucene 2.0 - 2.2"
      ]
    },
    {
      "cell_type": "code",
      "metadata": {
        "id": "pAUOAbfBytkF",
        "colab_type": "code",
        "colab": {}
      },
      "source": [
        "config = {'deep_learner': True, 'wide': True, 'n_layers': 2, 'lipschitz_lr': False, 'reduce_data': True, 'embedding_dims': 3, 'k': 6, 'oversample': True, 'activation': 'relu'}"
      ],
      "execution_count": 0,
      "outputs": []
    },
    {
      "cell_type": "code",
      "metadata": {
        "id": "xvW-Mnuo0SpR",
        "colab_type": "code",
        "outputId": "e81c4b7c-ea23-46ed-b6f8-05a8c08a4ad6",
        "colab": {
          "base_uri": "https://localhost:8080/",
          "height": 211
        }
      },
      "source": [
        "run_20_experiments(**config)"
      ],
      "execution_count": 0,
      "outputs": [
        {
          "output_type": "stream",
          "text": [
            "WARNING:tensorflow:From /usr/local/lib/python3.6/dist-packages/tensorflow_core/python/ops/resource_variable_ops.py:1630: calling BaseResourceVariable.__init__ (from tensorflow.python.ops.resource_variable_ops) with constraint is deprecated and will be removed in a future version.\n",
            "Instructions for updating:\n",
            "If using Keras pass *_constraint arguments to layers.\n",
            "0.6225885225885226\n",
            "0.6292968136870193\n",
            "0.6450318957597402\n",
            "Precision: [0.6666666666666666, 0.6595744680851063, 0.635036496350365, 0.674074074074074, 0.6615384615384615, 0.6615384615384615, 0.6589147286821705, 0.6527777777777778, 0.6541353383458647, 0.6690647482014388, 0.6610169491525424, 0.6496350364963503, 0.6692307692307692, 0.6666666666666666, 0.648, 0.6590909090909091, 0.6788321167883211, 0.6691729323308271, 0.6492537313432836, 0.65] \n",
            "Recall: [0.5694444444444444, 0.6458333333333334, 0.6041666666666666, 0.6319444444444444, 0.5972222222222222, 0.5972222222222222, 0.5902777777777778, 0.6527777777777778, 0.6041666666666666, 0.6458333333333334, 0.5416666666666666, 0.6180555555555556, 0.6041666666666666, 0.5833333333333334, 0.5625, 0.6041666666666666, 0.6458333333333334, 0.6180555555555556, 0.6041666666666666, 0.6319444444444444] \n",
            "F1: [0.6142322097378277, 0.6526315789473683, 0.6192170818505338, 0.6523297491039426, 0.6277372262773723, 0.6277372262773723, 0.6227106227106227, 0.6527777777777778, 0.628158844765343, 0.657243816254417, 0.5954198473282444, 0.6334519572953736, 0.635036496350365, 0.6222222222222222, 0.6022304832713754, 0.6304347826086956, 0.6619217081850534, 0.6425992779783394, 0.6258992805755396, 0.6408450704225351] \n",
            "Runtime: [17.77124547958374, 17.6841778755188, 18.562774658203125, 18.24582576751709, 18.24766516685486, 18.427701473236084, 18.386683464050293, 18.479739665985107, 18.82558274269104, 18.728442430496216, 18.903575658798218, 18.918875694274902, 19.1620614528656, 19.16739535331726, 19.29208517074585, 19.415163278579712, 19.303590536117554, 19.282819509506226, 19.489384174346924, 19.502054929733276]\n"
          ],
          "name": "stdout"
        }
      ]
    },
    {
      "cell_type": "markdown",
      "metadata": {
        "id": "zwGXWCw94-WX",
        "colab_type": "text"
      },
      "source": [
        "# camel 1.4 - 1.6"
      ]
    },
    {
      "cell_type": "code",
      "metadata": {
        "id": "mFPydLuk0T9g",
        "colab_type": "code",
        "colab": {}
      },
      "source": [
        "config = {'deep_learner': True, 'wide': True, 'n_layers': 3, 'lipschitz_lr': False, 'reduce_data': False, 'embedding_dims': 2, 'k': 3, 'oversample': True, 'activation': 'relu'}"
      ],
      "execution_count": 0,
      "outputs": []
    },
    {
      "cell_type": "code",
      "metadata": {
        "id": "5Zc1jRMJ5Ir0",
        "colab_type": "code",
        "outputId": "1099a8a5-b781-481c-ed09-3a2c9419558d",
        "colab": {
          "base_uri": "https://localhost:8080/",
          "height": 159
        }
      },
      "source": [
        "run_20_experiments(**config)"
      ],
      "execution_count": 0,
      "outputs": [
        {
          "output_type": "stream",
          "text": [
            "0.39826900076111776\n",
            "0.40663768903377706\n",
            "0.416744823789669\n",
            "Precision: [0.3242424242424242, 0.3435114503816794, 0.37089201877934275, 0.3671497584541063, 0.36923076923076925, 0.3776824034334764, 0.3392226148409894, 0.3059490084985836, 0.348993288590604, 0.36524822695035464, 0.3755656108597285, 0.34146341463414637, 0.3489208633093525, 0.36180904522613067, 0.33221476510067116, 0.2906666666666667, 0.3620689655172414, 0.32063492063492066, 0.35443037974683544, 0.38839285714285715] \n",
            "Recall: [0.5691489361702128, 0.4787234042553192, 0.42021276595744683, 0.40425531914893614, 0.5106382978723404, 0.46808510638297873, 0.5106382978723404, 0.574468085106383, 0.5531914893617021, 0.5478723404255319, 0.44148936170212766, 0.5212765957446809, 0.5159574468085106, 0.3829787234042553, 0.526595744680851, 0.5797872340425532, 0.44680851063829785, 0.5372340425531915, 0.44680851063829785, 0.4627659574468085] \n",
            "F1: [0.41312741312741313, 0.39999999999999997, 0.3940149625935162, 0.3848101265822785, 0.42857142857142855, 0.4180522565320665, 0.4076433121019108, 0.39926062846580407, 0.42798353909465014, 0.43829787234042555, 0.40586797066014674, 0.41263157894736846, 0.41630901287553645, 0.37209302325581395, 0.4074074074074074, 0.38721136767317943, 0.39999999999999997, 0.40159045725646125, 0.39529411764705885, 0.4223300970873787] \n",
            "Runtime: [27.76295804977417, 27.789985418319702, 28.05859684944153, 27.960970878601074, 28.136523723602295, 28.31935954093933, 28.373011589050293, 28.652007579803467, 28.47816014289856, 28.82899308204651, 28.630302667617798, 29.037333250045776, 29.149858713150024, 29.068028688430786, 29.399322986602783, 29.547357320785522, 29.507422924041748, 29.62424945831299, 29.58151912689209, 29.92029643058777]\n"
          ],
          "name": "stdout"
        }
      ]
    },
    {
      "cell_type": "markdown",
      "metadata": {
        "id": "fU_q6fW4T3Cu",
        "colab_type": "text"
      },
      "source": [
        "# ant 1.6 - 1.7"
      ]
    },
    {
      "cell_type": "code",
      "metadata": {
        "id": "5gDqqpf85KB3",
        "colab_type": "code",
        "colab": {}
      },
      "source": [
        "config = {'deep_learner': True, 'wide': True, 'n_layers': 2, 'lipschitz_lr': False, 'reduce_data': True, 'embedding_dims': 3, 'k': 6, 'oversample': True, 'activation': 'relu'}"
      ],
      "execution_count": 0,
      "outputs": []
    },
    {
      "cell_type": "code",
      "metadata": {
        "id": "rsqHaaBUT6Ye",
        "colab_type": "code",
        "outputId": "85c6538e-2f04-4eb6-b61f-30349326173b",
        "colab": {
          "base_uri": "https://localhost:8080/",
          "height": 714
        }
      },
      "source": [
        "run_20_experiments(**config)"
      ],
      "execution_count": 0,
      "outputs": [
        {
          "output_type": "stream",
          "text": [
            "WARNING:tensorflow:From /usr/local/lib/python3.6/dist-packages/tensorflow_core/python/ops/resource_variable_ops.py:1630: calling BaseResourceVariable.__init__ (from tensorflow.python.ops.resource_variable_ops) with constraint is deprecated and will be removed in a future version.\n",
            "Instructions for updating:\n",
            "If using Keras pass *_constraint arguments to layers.\n",
            "WARNING:tensorflow:From /usr/local/lib/python3.6/dist-packages/tensorflow_core/python/keras/backend.py:4277: where (from tensorflow.python.ops.array_ops) is deprecated and will be removed in a future version.\n",
            "Instructions for updating:\n",
            "Use tf.where in 2.0, which has the same broadcast rule as np.where\n",
            "WARNING:tensorflow:From /usr/local/lib/python3.6/dist-packages/keras/backend/tensorflow_backend.py:66: The name tf.get_default_graph is deprecated. Please use tf.compat.v1.get_default_graph instead.\n",
            "\n",
            "WARNING:tensorflow:From /usr/local/lib/python3.6/dist-packages/keras/backend/tensorflow_backend.py:541: The name tf.placeholder is deprecated. Please use tf.compat.v1.placeholder instead.\n",
            "\n",
            "WARNING:tensorflow:From /usr/local/lib/python3.6/dist-packages/keras/backend/tensorflow_backend.py:4432: The name tf.random_uniform is deprecated. Please use tf.random.uniform instead.\n",
            "\n",
            "WARNING:tensorflow:From /usr/local/lib/python3.6/dist-packages/keras/optimizers.py:793: The name tf.train.Optimizer is deprecated. Please use tf.compat.v1.train.Optimizer instead.\n",
            "\n",
            "WARNING:tensorflow:From /usr/local/lib/python3.6/dist-packages/keras/backend/tensorflow_backend.py:3657: The name tf.log is deprecated. Please use tf.math.log instead.\n",
            "\n",
            "WARNING:tensorflow:From /usr/local/lib/python3.6/dist-packages/keras/backend/tensorflow_backend.py:1033: The name tf.assign_add is deprecated. Please use tf.compat.v1.assign_add instead.\n",
            "\n",
            "WARNING:tensorflow:From /usr/local/lib/python3.6/dist-packages/keras/backend/tensorflow_backend.py:1020: The name tf.assign is deprecated. Please use tf.compat.v1.assign instead.\n",
            "\n",
            "WARNING:tensorflow:From /usr/local/lib/python3.6/dist-packages/keras/backend/tensorflow_backend.py:3005: The name tf.Session is deprecated. Please use tf.compat.v1.Session instead.\n",
            "\n",
            "WARNING:tensorflow:From /usr/local/lib/python3.6/dist-packages/keras/backend/tensorflow_backend.py:190: The name tf.get_default_session is deprecated. Please use tf.compat.v1.get_default_session instead.\n",
            "\n",
            "WARNING:tensorflow:From /usr/local/lib/python3.6/dist-packages/keras/backend/tensorflow_backend.py:197: The name tf.ConfigProto is deprecated. Please use tf.compat.v1.ConfigProto instead.\n",
            "\n",
            "WARNING:tensorflow:From /usr/local/lib/python3.6/dist-packages/keras/backend/tensorflow_backend.py:207: The name tf.global_variables is deprecated. Please use tf.compat.v1.global_variables instead.\n",
            "\n",
            "WARNING:tensorflow:From /usr/local/lib/python3.6/dist-packages/keras/backend/tensorflow_backend.py:216: The name tf.is_variable_initialized is deprecated. Please use tf.compat.v1.is_variable_initialized instead.\n",
            "\n",
            "WARNING:tensorflow:From /usr/local/lib/python3.6/dist-packages/keras/backend/tensorflow_backend.py:223: The name tf.variables_initializer is deprecated. Please use tf.compat.v1.variables_initializer instead.\n",
            "\n",
            "0.5531828177130725\n",
            "0.5573688914165007\n",
            "0.5611978799582757\n",
            "Precision: [0.46747967479674796, 0.4090909090909091, 0.4262295081967213, 0.4276729559748428, 0.43234323432343236, 0.43820224719101125, 0.42628205128205127, 0.42950819672131146, 0.4452296819787986, 0.4304635761589404, 0.4318181818181818, 0.47410358565737054, 0.4084084084084084, 0.4425087108013937, 0.4397163120567376, 0.41033434650455924, 0.46747967479674796, 0.45387453874538747, 0.42810457516339867, 0.45588235294117646] \n",
            "Recall: [0.6927710843373494, 0.8132530120481928, 0.7831325301204819, 0.8192771084337349, 0.7891566265060241, 0.7048192771084337, 0.8012048192771084, 0.7891566265060241, 0.7590361445783133, 0.7831325301204819, 0.8012048192771084, 0.7168674698795181, 0.8192771084337349, 0.7650602409638554, 0.7469879518072289, 0.8132530120481928, 0.6927710843373494, 0.7409638554216867, 0.7891566265060241, 0.7469879518072289] \n",
            "F1: [0.558252427184466, 0.5443548387096774, 0.5520169851380042, 0.5619834710743802, 0.5586353944562901, 0.5404157043879908, 0.5564853556485355, 0.5562632696390658, 0.5612472160356348, 0.5555555555555555, 0.561181434599156, 0.5707434052757794, 0.5450901803607214, 0.5607064017660044, 0.5535714285714286, 0.5454545454545454, 0.558252427184466, 0.5629290617848971, 0.5550847457627118, 0.5662100456621004] \n",
            "Runtime: [2.8747432231903076, 3.0046424865722656, 3.0868005752563477, 2.9611778259277344, 2.9642488956451416, 2.9796061515808105, 3.1037685871124268, 3.333313226699829, 3.3811001777648926, 3.3022077083587646, 3.4420342445373535, 3.644482374191284, 3.702660322189331, 3.6399121284484863, 3.711228132247925, 3.5213592052459717, 3.793853521347046, 3.9400522708892822, 3.9034500122070312, 3.7293715476989746]\n"
          ],
          "name": "stdout"
        }
      ]
    },
    {
      "cell_type": "code",
      "metadata": {
        "id": "Y9KRuHoCVkZL",
        "colab_type": "code",
        "outputId": "06bccc11-9ea8-402a-ba9d-a7ad3d143a3a",
        "colab": {
          "base_uri": "https://localhost:8080/",
          "height": 34
        }
      },
      "source": [
        "np.percentile([2.8747432231903076, 3.0046424865722656, 3.0868005752563477, 2.9611778259277344, 2.9642488956451416, 2.9796061515808105, 3.1037685871124268, 3.333313226699829, 3.3811001777648926, 3.3022077083587646, 3.4420342445373535, 3.644482374191284, 3.702660322189331, 3.6399121284484863, 3.711228132247925, 3.5213592052459717, 3.793853521347046, 3.9400522708892822, 3.9034500122070312, 3.7293715476989746],75)"
      ],
      "execution_count": 0,
      "outputs": [
        {
          "output_type": "execute_result",
          "data": {
            "text/plain": [
              "3.7048022747039795"
            ]
          },
          "metadata": {
            "tags": []
          },
          "execution_count": 20
        }
      ]
    },
    {
      "cell_type": "markdown",
      "metadata": {
        "id": "10jmhHrBVcI0",
        "colab_type": "text"
      },
      "source": [
        "# camel 1.2 - 1.4"
      ]
    },
    {
      "cell_type": "code",
      "metadata": {
        "id": "33-y_vwkUIos",
        "colab_type": "code",
        "colab": {}
      },
      "source": [
        "config = {'deep_learner': True, 'wide': True, 'n_layers': 1, 'lipschitz_lr': False, 'reduce_data': False, 'embedding_dims': 2, 'k': 3, 'oversample': True, 'activation': 'relu'}"
      ],
      "execution_count": 0,
      "outputs": []
    },
    {
      "cell_type": "code",
      "metadata": {
        "id": "8R3QidQtWWUO",
        "colab_type": "code",
        "outputId": "a5f180ca-ba40-405d-aaab-cddb24f3af85",
        "colab": {
          "base_uri": "https://localhost:8080/",
          "height": 159
        }
      },
      "source": [
        "run_20_experiments(**config)"
      ],
      "execution_count": 0,
      "outputs": [
        {
          "output_type": "stream",
          "text": [
            "0.3468843537414966\n",
            "0.3556544101824185\n",
            "0.3660516121917261\n",
            "Precision: [0.24288840262582057, 0.2838709677419355, 0.23060796645702306, 0.2529832935560859, 0.24436090225563908, 0.2529002320185615, 0.24078624078624078, 0.25773195876288657, 0.21572212065813529, 0.2577639751552795, 0.20064205457463885, 0.23376623376623376, 0.23617021276595745, 0.24808184143222506, 0.24050632911392406, 0.22799097065462753, 0.26112759643916916, 0.2198443579766537, 0.24681933842239187, 0.24507042253521127] \n",
            "Recall: [0.7655172413793103, 0.6068965517241379, 0.7586206896551724, 0.7310344827586207, 0.4482758620689655, 0.7517241379310344, 0.6758620689655173, 0.6896551724137931, 0.8137931034482758, 0.5724137931034483, 0.8620689655172413, 0.7448275862068966, 0.7655172413793103, 0.6689655172413793, 0.6551724137931034, 0.696551724137931, 0.6068965517241379, 0.7793103448275862, 0.6689655172413793, 0.6] \n",
            "F1: [0.36877076411960136, 0.3868131868131869, 0.35369774919614144, 0.37588652482269497, 0.31630170316301703, 0.3784722222222222, 0.35507246376811596, 0.37523452157598497, 0.34104046242774566, 0.3554603854389721, 0.32552083333333337, 0.3558484349258649, 0.36097560975609755, 0.36194029850746273, 0.35185185185185186, 0.3435374149659864, 0.36514522821576767, 0.3429438543247344, 0.36059479553903345, 0.34800000000000003] \n",
            "Runtime: [6.522428750991821, 7.031510353088379, 6.745366334915161, 6.746642351150513, 6.825603008270264, 6.7798051834106445, 7.128618240356445, 6.8335020542144775, 7.145745277404785, 7.126384735107422, 7.41409158706665, 7.275580644607544, 7.701127529144287, 7.397306680679321, 7.614641427993774, 7.736586570739746, 7.761388540267944, 7.682123899459839, 7.994001150131226, 7.900792598724365]\n"
          ],
          "name": "stdout"
        }
      ]
    },
    {
      "cell_type": "markdown",
      "metadata": {
        "id": "0q9kP82BvcN5",
        "colab_type": "text"
      },
      "source": [
        "# ivy 1.4 - 2.0"
      ]
    },
    {
      "cell_type": "code",
      "metadata": {
        "id": "02Akq55yWXy0",
        "colab_type": "code",
        "colab": {}
      },
      "source": [
        "config = {'deep_learner': True, 'wide': True, 'n_layers': 3, 'lipschitz_lr': False, 'reduce_data': False, 'embedding_dims': 2, 'k': 3, 'oversample': True, 'activation': 'relu'}"
      ],
      "execution_count": 0,
      "outputs": []
    },
    {
      "cell_type": "code",
      "metadata": {
        "id": "bdQCbSnlvuu6",
        "colab_type": "code",
        "outputId": "bbef7f98-5de7-4747-fb68-33827b932171",
        "colab": {
          "base_uri": "https://localhost:8080/",
          "height": 159
        }
      },
      "source": [
        "run_20_experiments(**config)"
      ],
      "execution_count": 0,
      "outputs": [
        {
          "output_type": "stream",
          "text": [
            "0.23340188014101057\n",
            "0.2799718621244096\n",
            "0.3019969278033794\n",
            "Precision: [0.22388059701492538, 0.2727272727272727, 0.25396825396825395, 0.23529411764705882, 0.22641509433962265, 0.22388059701492538, 0.28846153846153844, 0.2641509433962264, 0.24615384615384617, 0.1875, 0.25, 0.1, 0.2676056338028169, 0.1935483870967742, 0.21153846153846154, 0.2894736842105263, 0.16666666666666666, 0.24528301886792453, 0.23809523809523808, 0.26229508196721313] \n",
            "Recall: [0.375, 0.3, 0.4, 0.2, 0.3, 0.375, 0.375, 0.35, 0.4, 0.15, 0.275, 0.025, 0.475, 0.15, 0.275, 0.275, 0.05, 0.325, 0.25, 0.4] \n",
            "F1: [0.28037383177570097, 0.28571428571428564, 0.3106796116504854, 0.2162162162162162, 0.25806451612903225, 0.28037383177570097, 0.32608695652173914, 0.30107526881720426, 0.3047619047619048, 0.16666666666666663, 0.2619047619047619, 0.04000000000000001, 0.3423423423423423, 0.16901408450704225, 0.23913043478260868, 0.28205128205128205, 0.07692307692307691, 0.27956989247311825, 0.24390243902439024, 0.3168316831683169] \n",
            "Runtime: [4.038806200027466, 4.294967412948608, 4.323183536529541, 4.413172006607056, 4.707916259765625, 4.960328102111816, 4.680115222930908, 4.793854475021362, 5.160398483276367, 5.027463674545288, 5.084112644195557, 5.4252989292144775, 5.373549222946167, 5.423458814620972, 5.822613954544067, 5.7430808544158936, 5.671971082687378, 6.106994152069092, 6.348492622375488, 6.5406060218811035]\n"
          ],
          "name": "stdout"
        }
      ]
    },
    {
      "cell_type": "markdown",
      "metadata": {
        "id": "DULkP1dxw8rf",
        "colab_type": "text"
      },
      "source": [
        "# jEdit 3.2 - 4.0"
      ]
    },
    {
      "cell_type": "code",
      "metadata": {
        "id": "XNZAeUETzPiO",
        "colab_type": "code",
        "colab": {}
      },
      "source": [
        "config = {'deep_learner': True, 'wide': True, 'n_layers': 1, 'lipschitz_lr': False, 'reduce_data': False, 'embedding_dims': 2, 'k': 3, 'oversample': True, 'activation': 'relu'}"
      ],
      "execution_count": 0,
      "outputs": []
    },
    {
      "cell_type": "code",
      "metadata": {
        "id": "WnppPCFmvwQt",
        "colab_type": "code",
        "outputId": "ddfc7311-6f7f-42b1-a0d8-97f3a2b22cd1",
        "colab": {
          "base_uri": "https://localhost:8080/",
          "height": 159
        }
      },
      "source": [
        "run_20_experiments(**config)"
      ],
      "execution_count": 0,
      "outputs": [
        {
          "output_type": "stream",
          "text": [
            "0.5067013971110585\n",
            "0.5146090187468333\n",
            "0.5280634386260225\n",
            "Precision: [0.45217391304347826, 0.4411764705882353, 0.4339622641509434, 0.4262295081967213, 0.4224137931034483, 0.4, 0.44166666666666665, 0.4107142857142857, 0.42718446601941745, 0.4369747899159664, 0.40298507462686567, 0.3969465648854962, 0.4690265486725664, 0.4298245614035088, 0.43243243243243246, 0.4375, 0.44565217391304346, 0.4380952380952381, 0.41732283464566927, 0.4322033898305085] \n",
            "Recall: [0.6933333333333334, 0.6, 0.6133333333333333, 0.6933333333333334, 0.6533333333333333, 0.6933333333333334, 0.7066666666666667, 0.6133333333333333, 0.5866666666666667, 0.6933333333333334, 0.72, 0.6933333333333334, 0.7066666666666667, 0.6533333333333333, 0.64, 0.56, 0.5466666666666666, 0.6133333333333333, 0.7066666666666667, 0.68] \n",
            "F1: [0.5473684210526315, 0.5084745762711865, 0.5082872928176795, 0.5279187817258882, 0.513089005235602, 0.5073170731707318, 0.5435897435897435, 0.4919786096256684, 0.4943820224719101, 0.5360824742268041, 0.5167464114832535, 0.5048543689320388, 0.5638297872340425, 0.5185185185185186, 0.5161290322580645, 0.4912280701754386, 0.49101796407185627, 0.5111111111111111, 0.5247524752475247, 0.5284974093264249] \n",
            "Runtime: [7.785674333572388, 7.844439744949341, 7.791264295578003, 7.991171836853027, 8.059589147567749, 8.103115797042847, 8.32819128036499, 8.419585943222046, 8.507155418395996, 8.329012155532837, 8.667298793792725, 8.47134804725647, 8.769627332687378, 8.841513872146606, 8.880618333816528, 9.038430452346802, 9.054760217666626, 9.08403754234314, 9.372156381607056, 9.296295404434204]\n"
          ],
          "name": "stdout"
        }
      ]
    },
    {
      "cell_type": "code",
      "metadata": {
        "id": "bTekzcEMxHR8",
        "colab_type": "code",
        "outputId": "55d07dcc-2cb3-4643-f66b-419713059f1a",
        "colab": {
          "base_uri": "https://localhost:8080/",
          "height": 34
        }
      },
      "source": [
        "np.percentile([7.785674333572388, 7.844439744949341, 7.791264295578003, 7.991171836853027, 8.059589147567749, 8.103115797042847, 8.32819128036499, 8.419585943222046, 8.507155418395996, 8.329012155532837, 8.667298793792725, 8.47134804725647, 8.769627332687378, 8.841513872146606, 8.880618333816528, 9.038430452346802, 9.054760217666626, 9.08403754234314, 9.372156381607056, 9.296295404434204], 75)"
      ],
      "execution_count": 0,
      "outputs": [
        {
          "output_type": "execute_result",
          "data": {
            "text/plain": [
              "8.920071363449097"
            ]
          },
          "metadata": {
            "tags": []
          },
          "execution_count": 28
        }
      ]
    },
    {
      "cell_type": "markdown",
      "metadata": {
        "id": "PndPwW0x00eO",
        "colab_type": "text"
      },
      "source": [
        "# synapse 1.0 - 1.1"
      ]
    },
    {
      "cell_type": "code",
      "metadata": {
        "id": "J0xkIPZ70VEF",
        "colab_type": "code",
        "colab": {}
      },
      "source": [
        "config = {'deep_learner': True, 'wide': True, 'n_layers': 1, 'lipschitz_lr': False, 'reduce_data': True, 'embedding_dims': 3, 'k': 3, 'oversample': True, 'activation': 'relu'}"
      ],
      "execution_count": 0,
      "outputs": []
    },
    {
      "cell_type": "code",
      "metadata": {
        "id": "cRFF4PHo1A4a",
        "colab_type": "code",
        "outputId": "bb9522da-50e0-462b-de01-7edf231cc2af",
        "colab": {
          "base_uri": "https://localhost:8080/",
          "height": 159
        }
      },
      "source": [
        "run_20_experiments(**config)"
      ],
      "execution_count": 0,
      "outputs": [
        {
          "output_type": "stream",
          "text": [
            "0.4223363286264441\n",
            "0.42969084787266604\n",
            "0.44800000000000006\n",
            "Precision: [0.40625, 0.43859649122807015, 0.43137254901960786, 0.4262295081967213, 0.3835616438356164, 0.42857142857142855, 0.4716981132075472, 0.48148148148148145, 0.4126984126984127, 0.41818181818181815, 0.38666666666666666, 0.4307692307692308, 0.45714285714285713, 0.423728813559322, 0.4027777777777778, 0.3888888888888889, 0.43333333333333335, 0.4307692307692308, 0.46153846153846156, 0.4307692307692308] \n",
            "Recall: [0.43333333333333335, 0.4166666666666667, 0.36666666666666664, 0.43333333333333335, 0.4666666666666667, 0.5, 0.4166666666666667, 0.43333333333333335, 0.43333333333333335, 0.38333333333333336, 0.48333333333333334, 0.4666666666666667, 0.5333333333333333, 0.4166666666666667, 0.48333333333333334, 0.4666666666666667, 0.43333333333333335, 0.4666666666666667, 0.4, 0.4666666666666667] \n",
            "F1: [0.41935483870967744, 0.4273504273504274, 0.39639639639639634, 0.42975206611570244, 0.42105263157894735, 0.4615384615384615, 0.4424778761061947, 0.456140350877193, 0.4227642276422764, 0.4, 0.42962962962962964, 0.44800000000000006, 0.4923076923076923, 0.42016806722689076, 0.43939393939393945, 0.42424242424242425, 0.43333333333333335, 0.44800000000000006, 0.42857142857142855, 0.44800000000000006] \n",
            "Runtime: [9.39940857887268, 9.3822762966156, 9.482622623443604, 9.695749759674072, 9.686295509338379, 9.742041826248169, 10.122194528579712, 9.966315746307373, 10.244561672210693, 10.123581171035767, 10.38182520866394, 10.336971759796143, 10.596999168395996, 10.493130683898926, 10.529024600982666, 10.794015645980835, 10.863983392715454, 10.89316987991333, 10.776435375213623, 11.124361276626587]\n"
          ],
          "name": "stdout"
        }
      ]
    },
    {
      "cell_type": "markdown",
      "metadata": {
        "id": "I7kUzHtUvDhb",
        "colab_type": "text"
      },
      "source": [
        "# xalan 2.4 - 2.5"
      ]
    },
    {
      "cell_type": "code",
      "metadata": {
        "id": "chkH8ldPvFOD",
        "colab_type": "code",
        "colab": {}
      },
      "source": [
        "config = {'deep_learner': True, 'wide': True, 'n_layers': 3, 'lipschitz_lr': False, 'reduce_data': False, 'embedding_dims': 2, 'k': 3, 'oversample': True, 'activation': 'relu'}"
      ],
      "execution_count": 0,
      "outputs": []
    },
    {
      "cell_type": "code",
      "metadata": {
        "id": "SeQ8cwbovN-z",
        "colab_type": "code",
        "colab": {
          "base_uri": "https://localhost:8080/",
          "height": 159
        },
        "outputId": "b177f612-0c2c-4215-c291-de335a4dd992"
      },
      "source": [
        "run_20_experiments(**config)"
      ],
      "execution_count": 16,
      "outputs": [
        {
          "output_type": "stream",
          "text": [
            "0.4125333429457141\n",
            "0.4597176079734219\n",
            "0.5049157512060306\n",
            "Precision: [0.65, 0.648854961832061, 0.6372093023255814, 0.6909090909090909, 0.6378378378378379, 0.6511627906976745, 0.645021645021645, 0.631336405529954, 0.6487804878048781, 0.6556016597510373, 0.6244541484716157, 0.6153846153846154, 0.6589147286821705, 0.6515837104072398, 0.6871165644171779, 0.6404494382022472, 0.6497695852534562, 0.6758620689655173, 0.640625, 0.6477987421383647] \n",
            "Recall: [0.3359173126614987, 0.4392764857881137, 0.35400516795865633, 0.19638242894056848, 0.3049095607235142, 0.43410852713178294, 0.3850129198966408, 0.35400516795865633, 0.34366925064599485, 0.4082687338501292, 0.3695090439276486, 0.31007751937984496, 0.4392764857881137, 0.37209302325581395, 0.28940568475452194, 0.4418604651162791, 0.3643410852713178, 0.2532299741602067, 0.42377260981912146, 0.2661498708010336] \n",
            "F1: [0.44293015332197616, 0.5238828967642527, 0.45514950166112955, 0.3058350100603622, 0.41258741258741255, 0.5209302325581394, 0.482200647249191, 0.45364238410596025, 0.44932432432432434, 0.5031847133757962, 0.4642857142857143, 0.4123711340206186, 0.5271317829457365, 0.47368421052631576, 0.4072727272727273, 0.5229357798165137, 0.46688741721854304, 0.368421052631579, 0.5101088646967341, 0.3772893772893773] \n",
            "Runtime: [6.464629888534546, 6.486278533935547, 6.358354806900024, 6.550038576126099, 6.5814971923828125, 6.871693849563599, 6.872781038284302, 6.924598932266235, 7.037461519241333, 7.459088325500488, 7.351701021194458, 7.460180282592773, 7.586420297622681, 7.737383604049683, 7.675479173660278, 7.540551662445068, 7.807551622390747, 7.999125957489014, 8.278798341751099, 8.389816999435425]\n"
          ],
          "name": "stdout"
        }
      ]
    },
    {
      "cell_type": "code",
      "metadata": {
        "id": "GCXHc_WR1Ce2",
        "colab_type": "code",
        "colab": {}
      },
      "source": [
        "# How about using Nesterov momentum? Or the one that's quickest in that GitHub repo?"
      ],
      "execution_count": 0,
      "outputs": []
    }
  ]
}