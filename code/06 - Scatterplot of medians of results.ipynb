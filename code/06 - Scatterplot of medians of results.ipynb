{
 "cells": [
  {
   "cell_type": "markdown",
   "metadata": {},
   "source": [
    "## Data processing"
   ]
  },
  {
   "cell_type": "code",
   "execution_count": 1,
   "metadata": {},
   "outputs": [],
   "source": [
    "!python3 ../scott-knott.py ../experiment_results/final-ant/recall.txt > ../tmp2"
   ]
  },
  {
   "cell_type": "code",
   "execution_count": 2,
   "metadata": {},
   "outputs": [],
   "source": [
    "with open('../tmp2', 'r') as f:\n",
    "    recall_sk = [x.strip() for x in f.readlines()]"
   ]
  },
  {
   "cell_type": "code",
   "execution_count": 3,
   "metadata": {},
   "outputs": [],
   "source": [
    "recall_ids = [x.split()[1] for x in recall_sk]"
   ]
  },
  {
   "cell_type": "code",
   "execution_count": 4,
   "metadata": {},
   "outputs": [
    {
     "data": {
      "text/plain": [
       "'29  X12113710 (-------------------------|-----------------------*), 0.000,  0.000,  1.000,  1.000,  1.000'"
      ]
     },
     "execution_count": 4,
     "metadata": {},
     "output_type": "execute_result"
    }
   ],
   "source": [
    "recall_sk[len(recall_sk) - 1]"
   ]
  },
  {
   "cell_type": "code",
   "execution_count": 5,
   "metadata": {},
   "outputs": [],
   "source": [
    "recall_med = [x.split(',')[3] for x in recall_sk]"
   ]
  },
  {
   "cell_type": "code",
   "execution_count": 6,
   "metadata": {},
   "outputs": [],
   "source": [
    "!python3 ../scott-knott.py ../experiment_results/final-ant/precision.txt > ../tmp2"
   ]
  },
  {
   "cell_type": "code",
   "execution_count": 7,
   "metadata": {},
   "outputs": [],
   "source": [
    "with open('../tmp2', 'r') as f:\n",
    "    precision_sk = [x.strip() for x in f.readlines()]"
   ]
  },
  {
   "cell_type": "code",
   "execution_count": 8,
   "metadata": {},
   "outputs": [],
   "source": [
    "precision_ids = [x.split()[1] for x in precision_sk]"
   ]
  },
  {
   "cell_type": "code",
   "execution_count": 9,
   "metadata": {},
   "outputs": [],
   "source": [
    "precision_med = [x.split(',')[3] for x in precision_sk]"
   ]
  },
  {
   "cell_type": "code",
   "execution_count": 10,
   "metadata": {},
   "outputs": [],
   "source": [
    "precision = list(zip(precision_ids, precision_med))\n",
    "recall = list(zip(recall_ids, recall_med))\n",
    "\n",
    "precision = sorted(precision, key=lambda x: x[0])\n",
    "recall = sorted(recall, key=lambda x: x[0])\n",
    "\n",
    "precision = [x[1] for x in precision]\n",
    "recall = [x[1] for x in recall]"
   ]
  },
  {
   "cell_type": "code",
   "execution_count": 11,
   "metadata": {},
   "outputs": [],
   "source": [
    "precision = [float(x) for x in precision]\n",
    "recall = [float(x) for x in recall]"
   ]
  },
  {
   "cell_type": "code",
   "execution_count": 12,
   "metadata": {},
   "outputs": [],
   "source": [
    "!python3 ../scott-knott.py ../experiment_results/final-ant/f1.txt > ../tmp2"
   ]
  },
  {
   "cell_type": "code",
   "execution_count": 13,
   "metadata": {},
   "outputs": [],
   "source": [
    "with open('../tmp2', 'r') as f:\n",
    "    f1_sk = [x.strip() for x in f.readlines()]"
   ]
  },
  {
   "cell_type": "code",
   "execution_count": 14,
   "metadata": {},
   "outputs": [],
   "source": [
    "f1_ids = [x.split()[1] for x in f1_sk]\n",
    "f1_rank = [x.split()[0] for x in f1_sk]\n",
    "\n",
    "f1 = list(zip(f1_ids, f1_rank))\n",
    "f1 = sorted(f1, key=lambda x: x[0])\n",
    "f1 = [int(x[1]) for x in f1]"
   ]
  },
  {
   "cell_type": "code",
   "execution_count": 15,
   "metadata": {},
   "outputs": [],
   "source": [
    "!rm ../tmp2"
   ]
  },
  {
   "cell_type": "code",
   "execution_count": 16,
   "metadata": {},
   "outputs": [
    {
     "data": {
      "text/plain": [
       "[18,\n",
       " 16,\n",
       " 10,\n",
       " 27,\n",
       " 12,\n",
       " 39,\n",
       " 13,\n",
       " 29,\n",
       " 6,\n",
       " 26,\n",
       " 15,\n",
       " 18,\n",
       " 11,\n",
       " 23,\n",
       " 10,\n",
       " 26,\n",
       " 9,\n",
       " 16,\n",
       " 8,\n",
       " 35,\n",
       " 3,\n",
       " 17,\n",
       " 1,\n",
       " 38,\n",
       " 38,\n",
       " 34,\n",
       " 1,\n",
       " 36,\n",
       " 25,\n",
       " 2,\n",
       " 1,\n",
       " 33,\n",
       " 28,\n",
       " 2,\n",
       " 1,\n",
       " 37,\n",
       " 25,\n",
       " 1,\n",
       " 1,\n",
       " 30,\n",
       " 25,\n",
       " 1,\n",
       " 1,\n",
       " 32,\n",
       " 26,\n",
       " 1,\n",
       " 1,\n",
       " 36,\n",
       " 1,\n",
       " 4,\n",
       " 38,\n",
       " 28,\n",
       " 1,\n",
       " 1,\n",
       " 38,\n",
       " 33,\n",
       " 1,\n",
       " 1,\n",
       " 33,\n",
       " 28,\n",
       " 1,\n",
       " 1,\n",
       " 28,\n",
       " 26,\n",
       " 1,\n",
       " 1,\n",
       " 20,\n",
       " 20,\n",
       " 1,\n",
       " 1,\n",
       " 20,\n",
       " 7,\n",
       " 1,\n",
       " 1,\n",
       " 20,\n",
       " 11,\n",
       " 1,\n",
       " 1,\n",
       " 20,\n",
       " 7,\n",
       " 1,\n",
       " 1,\n",
       " 20,\n",
       " 1,\n",
       " 1,\n",
       " 1,\n",
       " 1,\n",
       " 20,\n",
       " 1,\n",
       " 1,\n",
       " 5,\n",
       " 1,\n",
       " 1,\n",
       " 1,\n",
       " 20,\n",
       " 20,\n",
       " 1,\n",
       " 1,\n",
       " 20,\n",
       " 20,\n",
       " 1,\n",
       " 1,\n",
       " 20,\n",
       " 1,\n",
       " 1,\n",
       " 1,\n",
       " 1,\n",
       " 15,\n",
       " 1,\n",
       " 4,\n",
       " 21,\n",
       " 14,\n",
       " 1,\n",
       " 1,\n",
       " 28,\n",
       " 21,\n",
       " 1,\n",
       " 1,\n",
       " 33,\n",
       " 25,\n",
       " 1,\n",
       " 1,\n",
       " 33,\n",
       " 26,\n",
       " 1,\n",
       " 1,\n",
       " 31,\n",
       " 26,\n",
       " 1,\n",
       " 1,\n",
       " 33,\n",
       " 25,\n",
       " 1,\n",
       " 1,\n",
       " 28,\n",
       " 25,\n",
       " 1,\n",
       " 4,\n",
       " 31,\n",
       " 26,\n",
       " 1,\n",
       " 1,\n",
       " 33,\n",
       " 25,\n",
       " 1,\n",
       " 1,\n",
       " 33,\n",
       " 25,\n",
       " 1,\n",
       " 1,\n",
       " 33,\n",
       " 26,\n",
       " 1,\n",
       " 1,\n",
       " 20,\n",
       " 20,\n",
       " 1,\n",
       " 1,\n",
       " 20,\n",
       " 20,\n",
       " 1,\n",
       " 1,\n",
       " 5,\n",
       " 1,\n",
       " 1,\n",
       " 1,\n",
       " 1,\n",
       " 20,\n",
       " 1,\n",
       " 1,\n",
       " 12,\n",
       " 20,\n",
       " 1,\n",
       " 1,\n",
       " 20,\n",
       " 13,\n",
       " 1,\n",
       " 1,\n",
       " 20,\n",
       " 1,\n",
       " 1,\n",
       " 1,\n",
       " 20,\n",
       " 2,\n",
       " 1,\n",
       " 1,\n",
       " 20,\n",
       " 13,\n",
       " 1,\n",
       " 1,\n",
       " 20,\n",
       " 20,\n",
       " 1,\n",
       " 1,\n",
       " 20,\n",
       " 1,\n",
       " 6,\n",
       " 1,\n",
       " 19,\n",
       " 2,\n",
       " 1,\n",
       " 1,\n",
       " 28,\n",
       " 22,\n",
       " 1,\n",
       " 1,\n",
       " 28,\n",
       " 24,\n",
       " 1]"
      ]
     },
     "execution_count": 16,
     "metadata": {},
     "output_type": "execute_result"
    }
   ],
   "source": [
    "f1"
   ]
  },
  {
   "cell_type": "markdown",
   "metadata": {},
   "source": [
    "## Plot"
   ]
  },
  {
   "cell_type": "code",
   "execution_count": 17,
   "metadata": {},
   "outputs": [],
   "source": [
    "import matplotlib.pyplot as plt"
   ]
  },
  {
   "cell_type": "code",
   "execution_count": 18,
   "metadata": {},
   "outputs": [
    {
     "data": {
      "image/png": "[encoded data removed]",
      "text/plain": [
       "<Figure size 720x432 with 2 Axes>"
      ]
     },
     "metadata": {
      "needs_background": "light"
     },
     "output_type": "display_data"
    }
   ],
   "source": [
    "plt.figure(figsize=(10, 6))\n",
    "plt.xlabel('Recall');\n",
    "plt.ylabel('Precision');\n",
    "plt.scatter(recall, precision, c=f1);\n",
    "plt.colorbar();"
   ]
  },
  {
   "cell_type": "code",
   "execution_count": null,
   "metadata": {},
   "outputs": [],
   "source": []
  }
 ],
 "metadata": {
  "kernelspec": {
   "display_name": "Python 3",
   "language": "python",
   "name": "python3"
  },
  "language_info": {
   "codemirror_mode": {
    "name": "ipython",
    "version": 3
   },
   "file_extension": ".py",
   "mimetype": "text/x-python",
   "name": "python",
   "nbconvert_exporter": "python",
   "pygments_lexer": "ipython3",
   "version": "3.7.4"
  }
 },
 "nbformat": 4,
 "nbformat_minor": 2
}
